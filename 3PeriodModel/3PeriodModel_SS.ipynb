{
 "cells": [
  {
   "cell_type": "code",
   "execution_count": 1,
   "metadata": {},
   "outputs": [],
   "source": [
    "# imports\n",
    "import numpy as np\n",
    "import scipy.optimize as opt\n",
    "import matplotlib.pyplot as plt\n",
    "%matplotlib inline"
   ]
  },
  {
   "cell_type": "code",
   "execution_count": 4,
   "metadata": {},
   "outputs": [],
   "source": [
    "def get_K(bvec):\n",
    "    K = bvec.sum()\n",
    "    return K\n",
    "\n",
    "def get_L(nvec):\n",
    "    L = nvec.sum()\n",
    "    return L\n",
    "\n",
    "def get_w(K, L, A, alpha):\n",
    "    w = (1 - alpha) * A * (K / L) ** alpha\n",
    "    return w\n",
    "\n",
    "def get_r(K, L, A, alpha, delta):\n",
    "    r = alpha * A * (L / K) ** (1 - alpha) - delta\n",
    "    return r\n",
    "\n",
    "def EulerFunc(bvec, *args):\n",
    "    sigma, beta, nvec, A, alpha, delta = args\n",
    "    b1 = 0\n",
    "    b2 = bvec[0]\n",
    "    b3 = bvec[1]\n",
    "    K = get_K(bvec)\n",
    "    L = get_L(nvec)\n",
    "    r = get_r(K, L, A, alpha, delta)\n",
    "    w = get_w(K, L, A, alpha)\n",
    "    c1 = w * nvec[0] + (1 + r) * b1 - b2\n",
    "    c2 = w * nvec[1] + (1 + r) * b2 - b3\n",
    "    c3 = w * nvec[2] + (1 + r) * b3\n",
    "    MU_c1 = c1 ** -sigma\n",
    "    MU_c2 = c2 ** -sigma\n",
    "    MU_c3 = c3 ** -sigma\n",
    "    error1 = MU_c1 - beta * (1 + r) * MU_c2  # eq'n 2.12\n",
    "    error2 = MU_c2 - beta * (1 + r) * MU_c3  # eq'n 2.14\n",
    "    errors = np.array([error1, error2])\n",
    "    return errors  # this is our zero condition"
   ]
  },
  {
   "cell_type": "code",
   "execution_count": 10,
   "metadata": {},
   "outputs": [],
   "source": [
    "# Setting parameter values\n",
    "sigma = 3.0\n",
    "beta_annual = 0.99\n",
    "beta = beta_annual ** 20\n",
    "nvec = np.array([1.0, 1.0, 0.2])\n",
    "A = 1.0\n",
    "alpha = 0.35\n",
    "delta_annual = 0.05\n",
    "delta = 1 - (1 - delta_annual) ** 20"
   ]
  },
  {
   "cell_type": "code",
   "execution_count": 11,
   "metadata": {},
   "outputs": [
    {
     "name": "stdout",
     "output_type": "stream",
     "text": [
      "Optimal savings is =  [0.05202465 0.12001847]\n",
      "SS interest rate =  1.192820406810847\n",
      "SS wage rate =  0.2664026124737178\n"
     ]
    }
   ],
   "source": [
    "# Solve for the SS of the model\n",
    "bvec_init = np.array([0.1, 0.1])\n",
    "euler_args = (sigma, beta, nvec, A, alpha, delta)\n",
    "results_b = opt.root(EulerFunc, bvec_init, args=(euler_args))\n",
    "print('Optimal savings is = ', results_b.x)\n",
    "b_ss = results_b.x\n",
    "K_ss = get_K(b_ss) \n",
    "L_ss = get_L(nvec)\n",
    "r_ss = get_r(K_ss, L_ss, A, alpha, delta)\n",
    "w_ss = get_w(K_ss, L_ss, A, alpha)\n",
    "print('SS interest rate = ', r_ss)\n",
    "print('SS wage rate = ', w_ss)"
   ]
  },
  {
   "cell_type": "code",
   "execution_count": 9,
   "metadata": {},
   "outputs": [
    {
     "data": {
      "image/png": "[encoded data removed]",
      "text/plain": [
       "<Figure size 432x288 with 1 Axes>"
      ]
     },
     "metadata": {
      "needs_background": "light"
     },
     "output_type": "display_data"
    }
   ],
   "source": [
    "age = np.array([1, 2, 3])\n",
    "b_sp1_ss = np.append(b_ss, 0.0)\n",
    "plt.bar(age, b_sp1_ss)\n",
    "plt.show()"
   ]
  },
  {
   "cell_type": "code",
   "execution_count": 12,
   "metadata": {},
   "outputs": [
    {
     "data": {
      "image/png": "[encoded data removed]",
      "text/plain": [
       "<Figure size 432x288 with 1 Axes>"
      ]
     },
     "metadata": {
      "needs_background": "light"
     },
     "output_type": "display_data"
    }
   ],
   "source": [
    "# Let's see how the interest rates respond to\n",
    "# changes in time preference\n",
    "N = 100  # the number of different betas to look at\n",
    "beta_values = np.linspace(0.5, 0.99, N)\n",
    "r_results = np.zeros(N)\n",
    "for i in range(N):\n",
    "    euler_args = (sigma, beta_values[i], nvec, A, alpha, delta)\n",
    "    results_b = opt.root(EulerFunc, bvec_init, args=(euler_args))\n",
    "    b_ss = results_b.x\n",
    "    K_ss = get_K(b_ss)\n",
    "    L_ss = get_L(nvec)\n",
    "    r_ss = get_r(K_ss, L_ss, A, alpha, delta)\n",
    "    r_results[i] = r_ss\n",
    "\n",
    "plt.plot(beta_values, r_results)\n",
    "plt.title('Time Preferences and Interest Rates')\n",
    "plt.xlabel('Beta')\n",
    "plt.ylabel('SS interest rate')\n",
    "plt.show()"
   ]
  },
  {
   "cell_type": "code",
   "execution_count": null,
   "metadata": {},
   "outputs": [],
   "source": []
  }
 ],
 "metadata": {
  "kernelspec": {
   "display_name": "Python 3",
   "language": "python",
   "name": "python3"
  },
  "language_info": {
   "codemirror_mode": {
    "name": "ipython",
    "version": 3
   },
   "file_extension": ".py",
   "mimetype": "text/x-python",
   "name": "python",
   "nbconvert_exporter": "python",
   "pygments_lexer": "ipython3",
   "version": "3.7.3"
  }
 },
 "nbformat": 4,
 "nbformat_minor": 2
}
