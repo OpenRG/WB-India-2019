{
 "cells": [
  {
   "cell_type": "markdown",
   "metadata": {},
   "source": [
    "# Numerical Optimization Exercises\n",
    "### by [Jason DeBacker](https://jasondebacker.com), August 2019\n",
    "\n",
    "This Jupyter Notebook provides exercises to gain experience with optimization and root-finding in Python.  These exercises are intended to extened and reinforce what we learned in the WebEx sessions and in the tutorials posted to the GitHub repo.  Please work these at your own pace, with a group (if you wish), and don't hesitate to ask if you have questions.\n",
    "\n",
    "\n",
    "## 1.  Scalar minimization problem\n",
    "\n",
    "Consider the polynomial:\n",
    "\n",
    "$$ f(x) = x^{4} + 3(x-2)^{3} - 15x^{2} + 1 $$\n",
    "\n",
    "With this function, do the following:\n",
    "1. Define the function $f(x)$ in Python\n",
    "2. Use Matplotlib to plot this function over the range [-8, 6]\n",
    "3. Use a `scipy.optimize` function (such as `minimize_scalar` or `minimize`) to find the minium of this function.  You may find the [SciPy Optimize reference materials](http://docs.scipy.org/doc/scipy/reference/optimize.html) helpful.\n"
   ]
  },
  {
   "cell_type": "code",
   "execution_count": null,
   "metadata": {},
   "outputs": [],
   "source": [
    "# Define your function in this cell\n"
   ]
  },
  {
   "cell_type": "code",
   "execution_count": null,
   "metadata": {},
   "outputs": [],
   "source": [
    "# Plot your function in this cell"
   ]
  },
  {
   "cell_type": "code",
   "execution_count": null,
   "metadata": {},
   "outputs": [],
   "source": [
    "# Find the minimum in this cell"
   ]
  },
  {
   "cell_type": "markdown",
   "metadata": {},
   "source": [
    "## 2. Multidimensional minimization problem\n",
    "\n",
    "Now consider a 2-dimensional minimization problem.  Suppose the function you are trying to minimize is a paraboloid given by:\n",
    "\n",
    "$$ f(x,y) = 10(x-1)^{2} + 20(y-2)^{2} + 30 $$ \n",
    "\n",
    "Which looks like:"
   ]
  },
  {
   "cell_type": "code",
   "execution_count": null,
   "metadata": {},
   "outputs": [],
   "source": [
    "def paraboloid(xy):\n",
    "    f = 10 * (xy[0] - 1) ** 2 + 20 * (xy[1] - 2) ** 2 + 30\n",
    "    return f\n",
    "\n",
    "x = np.linspace(-1, 8, 100)\n",
    "y = np.linspace(-1, 8, 100)\n",
    "XY = np.meshgrid(x, y)\n",
    "Z = paraboloid(XY)\n",
    "\n",
    "plt.contour(X, Y, Z, 100, cmap='RdGy')\n",
    "plt.show()\n",
    "# Note that darker reds are lower values..."
   ]
  },
  {
   "cell_type": "markdown",
   "metadata": {},
   "source": [
    "With this paraboloid, use a multidimentional minimizer from `scipy.optimize.minimize` to find the minimum of this function.\n",
    "\n",
    "Try different methods and starting values.  Did any not work?"
   ]
  },
  {
   "cell_type": "code",
   "execution_count": null,
   "metadata": {},
   "outputs": [],
   "source": [
    "# find the minimum of the paraboloid here"
   ]
  },
  {
   "cell_type": "markdown",
   "metadata": {},
   "source": [
    "## 3. Constrained optimization problem\n",
    "\n",
    "Try to find the minimum of the paraboloid above, but where $x\\in[4, 8]$ and $y\\in[4,8]$.\n",
    "\n",
    "Note that `scipy.optimize.minimize` has three methods that can handle bounded optimization: `'L-BFGS-B'`, `'TNC'`, and `'SLSQP'`.  Again, you may find the [SciPy Optimize reference materials](http://docs.scipy.org/doc/scipy/reference/optimize.html) helpful."
   ]
  },
  {
   "cell_type": "code",
   "execution_count": null,
   "metadata": {},
   "outputs": [],
   "source": [
    "# find the minimum of the paraboloid here"
   ]
  },
  {
   "cell_type": "markdown",
   "metadata": {},
   "source": [
    "## 4. Root-finding problem\n",
    "\n",
    "Consider an individual that lives for 2 periods and derives utilty from consuming cake in each period.  This individual is born with a cake of size $w$ and must decide how much to consume in the first period and save for the second.  If we let $s$ represent the amount of cake saved from the first period (and therefore eaten in the second period), $u(\\cdot)$ represent the utility function, and $\\beta$ the rate at which the consumer discounts future consumption, the consumer's problem is given by:\n",
    "\n",
    "$$ max_{s} u(w-s) + \\beta u(s),$$\n",
    "\n",
    "subject to $s\\leq w$\n",
    "\n",
    "The first-order necessary condition (FOC) for the consumer's problem is:\n",
    "\n",
    "$$ u'(w-s) - \\beta u'(s) = 0,$$\n",
    "\n",
    "where $u'(\\cdot)$ is the marginal utilty of consuming cake (i.e., the first derivative of the function $u(\\cdot)$).\n",
    "\n",
    "Assume that the utility function is given by:\n",
    "\n",
    "$$ u(c) = \\frac{c^{1-\\sigma}}{1-\\sigma},$$\n",
    "\n",
    "where $\\sigma$ is some number $\\geq$ 1.  Assume that $\\beta = 0.75$.\n",
    "\n",
    "1. Write a function for the marginal utility function, $u'(c)$, which takes $\\sigma$ and $c$ as an argument.\n",
    "2. Write a function that represents the first-order condition, which is a zero condition.  This function should take $s$, the amount of cake saved, $\\sigma$, and $w$, the initial amount of cake, as arguments.  It will call the marginal utility function.\n",
    "3. Use `scipy.optimize.root` to solve for optimal amount of cake to save for a given $\\sigma$ and $w$.  Note that you should be able to solve the problem analytically to check your solution."
   ]
  },
  {
   "cell_type": "code",
   "execution_count": null,
   "metadata": {},
   "outputs": [],
   "source": [
    "# Define u'(c) in this cell\n"
   ]
  },
  {
   "cell_type": "code",
   "execution_count": null,
   "metadata": {},
   "outputs": [],
   "source": [
    "# Define the FOC in this cell\n",
    "def foc(s, *args):  # the * in from of args allows the number of items in the args tuple to vary\n",
    "    w, sigma, beta = args\n",
    "    #...finish this function..."
   ]
  },
  {
   "cell_type": "code",
   "execution_count": null,
   "metadata": {},
   "outputs": [],
   "source": [
    "# Call the root finder in this cell\n",
    "# Here are some default values for w and the parameters - feel free to change!\n",
    "w = 2\n",
    "beta = 0.75\n",
    "sigma = 2.0"
   ]
  }
 ],
 "metadata": {
  "kernelspec": {
   "display_name": "Python 3",
   "language": "python",
   "name": "python3"
  },
  "language_info": {
   "codemirror_mode": {
    "name": "ipython",
    "version": 3
   },
   "file_extension": ".py",
   "mimetype": "text/x-python",
   "name": "python",
   "nbconvert_exporter": "python",
   "pygments_lexer": "ipython3",
   "version": "3.7.2"
  }
 },
 "nbformat": 4,
 "nbformat_minor": 2
}
