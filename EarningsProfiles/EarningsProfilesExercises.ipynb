{
 "cells": [
  {
   "cell_type": "markdown",
   "metadata": {},
   "source": [
    "# Income Profiles in Indian Tax Data\n",
    "## August 22, 2019\n",
    "\n",
    "This notebook walks through some exercises to look at hourly earnings profiles with Indian tax data.\n",
    "\n",
    "It's important to note that Indian tax data *do not* contain any information on hours worked.  But when your an economist, you can just assume the can opener.  We'll assume that all workers follow the following age profile of hours worked:\n",
    "\n",
    "\n",
    "Do the following:\n",
    "1. Read in the `pitSmallData.csv` from the `taxcalc` repository.\n",
    "2. Use the averaged hours worked in `/WB-India-2019/EarningsProfiles/hrs_by_age.csv` to compute hourly labor earnings for each record with a filer aged 20-80 in the tax data.  You will use just the aged 20-80 filers for the remaining exercises.\n",
    "3. Find average hourly earnings by age.  Plot these average hourly earnings over age.\n",
    "4. Now, for each age, break the earnings distribution into quartiles.  Compute the means for each age-quartile.  Plot these means over age.\n",
    "5. Finally, for each quartile (but using individuals of all ages who are in that quartile), estimate the regression (where $i$ refers to the observation and $q$ to the quartile):\n",
    "$$ ln(w_{i,q}) = \\alpha_{q} + \\beta_{1,q}age_{i,q} + \\beta_{2,q}age_{i}^{2} + \\beta_{4,q}age_{i,q}^{3} + \\varepsilon_{i,q} $$\n",
    "Put these regression coeffients in a table like:\n",
    "\n",
    "|                | Q1 | Q2 | Q3 | Q4 |\n",
    "|----------------|----|----|----|----|\n",
    "| $\\alpha$         |    |    |    |    |\n",
    "| $\\beta_{1}$         |    |    |    |    |\n",
    "| $\\beta_{2}$         |    |    |    |    |\n",
    "| $\\beta_{3}$         |    |    |    |    |\n",
    "| Num Obs |    |    |    |    |\n",
    "\n",
    "And plot the four earnings profiles from these parameter estimates."
   ]
  },
  {
   "cell_type": "code",
   "execution_count": 1,
   "metadata": {},
   "outputs": [],
   "source": [
    "# imports\n",
    "import pandas as pd\n",
    "import numpy as np\n",
    "import statsmodels.formula.api as smf\n",
    "import matplotlib.pyplot as plt\n",
    "%matplotlib inline"
   ]
  },
  {
   "cell_type": "markdown",
   "metadata": {},
   "source": [
    "## Exercise 1"
   ]
  },
  {
   "cell_type": "code",
   "execution_count": 22,
   "metadata": {},
   "outputs": [
    {
     "data": {
      "text/plain": [
       "Index(['FILING_SEQ_NO', 'AGE', 'AGEGRP', 'FORM_ID', 'ASSESSMENT_YEAR',\n",
       "       'SALARIES', 'INCOME_HP', 'PRFT_GAIN_BP_OTHR_SPECLTV_BUS',\n",
       "       'PRFT_GAIN_BP_SPECLTV_BUS', 'PRFT_GAIN_BP_SPCFD_BUS',\n",
       "       'PRFT_GAIN_BP_INC_115BBF', 'TOTAL_PROFTS_GAINS_BP', 'ST_CG_AMT_1',\n",
       "       'ST_CG_AMT_2', 'ST_CG_AMT_APPRATE', 'TOTAL_SCTG', 'LT_CG_AMT_1',\n",
       "       'LT_CG_AMT_2', 'TOTAL_LTCG', 'TOTAL_CAP_GAIN',\n",
       "       'INCOME_OS_NOT_RACEHORSE', 'INC_CHARBLE_SPL_RATE',\n",
       "       'INCOME_OS_RACEHORSE', 'TOTAL_INCOME_OS', 'GTI_BEFORE_LOSSES',\n",
       "       'CYL_SET_OFF', 'BAL_AFTR_CYL_SET_OFF', 'BFL_SET_OFF_BALANCE',\n",
       "       'GROSS_TOTAL_INCOME', 'INC_CHG_TAX_SPL_RATES', 'DEDUCT_SEC_10A_OR_10AA',\n",
       "       'PARTB_CHAPTER_VIA', 'PARTC_CHAPTER_VIA', 'TOTAL_DEDUC_VIA',\n",
       "       'TOTAL_INCOME', 'INC_SPL_111A_112', 'NET_AGRC_INCOME',\n",
       "       'AGGREGATE_INCOME', 'CY_LOSS_CARRYFWD', 'TAX_PAYBLE_TI_SEC115JC',\n",
       "       'SURCHARGE_ON_DEEMED_TI', 'EDUCATION_CESS_SEC115JC',\n",
       "       'TOTAL_TAX_PAYBL_SEC115JC', 'TAX_NORMAL_RATE', 'TAX_SI_RATE',\n",
       "       'REBATE_AGRC_INCOME', 'TAX_PAYABL_TOT_INCOM', 'REBATE_87A',\n",
       "       'TAX_PAYABLE_ON_REBATE', 'SURCHARGE_25OFSI', 'SURCHARGE_ON_ABOVE_CRORE',\n",
       "       'TOTAL_SURCHARGE', 'EDUCATION_CESS', 'GROSS_TAX_LIABILITY',\n",
       "       'GROSS_TAX_PAYABLE', 'CRDEDIT_US115JD_EY',\n",
       "       'TAX_PAYBLE_AFTR_CRDT_SEC115JD', 'RELIEF_89', 'RELIEF_90', 'RELIEF_91',\n",
       "       'TOTAL_RELIEF', 'NET_TAX_LIABILTY', 'INT_PAYABLE_234A',\n",
       "       'INT_PAYABLE_234B', 'INT_PAYABLE_234C', 'TOTAL_INT_PAYABLE',\n",
       "       'AGGREGATE_LIABILTY', 'ADVANCE_TAX', 'TOTAL_TDS', 'TOTAL_TCS',\n",
       "       'SELF_ASSESMNT_TAX', 'TOTAL_TAX_PAID', 'TAX_PAYBL', 'REFUND_AMOUNT',\n",
       "       'position', 'decile_group'],\n",
       "      dtype='object')"
      ]
     },
     "execution_count": 22,
     "metadata": {},
     "output_type": "execute_result"
    }
   ],
   "source": [
    "# Read in data\n",
    "# You may need to change the path to the taxcalc directory\n",
    "df_tax = pd.read_csv('../../taxcalc-India/taxcalc/pitSmallData.csv')\n",
    "df_tax.keys()"
   ]
  },
  {
   "cell_type": "markdown",
   "metadata": {},
   "source": [
    "## Exercise 2\n",
    "\n",
    "Read in hours data, merge, and create hourly earnings."
   ]
  },
  {
   "cell_type": "code",
   "execution_count": 3,
   "metadata": {},
   "outputs": [
    {
     "name": "stderr",
     "output_type": "stream",
     "text": [
      "/anaconda3/lib/python3.7/site-packages/pandas/core/series.py:853: RuntimeWarning: divide by zero encountered in log\n",
      "  result = getattr(ufunc, method)(*inputs, **kwargs)\n"
     ]
    },
    {
     "data": {
      "text/html": [
       "<div>\n",
       "<style scoped>\n",
       "    .dataframe tbody tr th:only-of-type {\n",
       "        vertical-align: middle;\n",
       "    }\n",
       "\n",
       "    .dataframe tbody tr th {\n",
       "        vertical-align: top;\n",
       "    }\n",
       "\n",
       "    .dataframe thead th {\n",
       "        text-align: right;\n",
       "    }\n",
       "</style>\n",
       "<table border=\"1\" class=\"dataframe\">\n",
       "  <thead>\n",
       "    <tr style=\"text-align: right;\">\n",
       "      <th></th>\n",
       "      <th>labor_income</th>\n",
       "      <th>hours</th>\n",
       "      <th>wage</th>\n",
       "      <th>age</th>\n",
       "    </tr>\n",
       "  </thead>\n",
       "  <tbody>\n",
       "    <tr>\n",
       "      <th>count</th>\n",
       "      <td>1.000000e+04</td>\n",
       "      <td>9896.000000</td>\n",
       "      <td>9.896000e+03</td>\n",
       "      <td>9896.000000</td>\n",
       "    </tr>\n",
       "    <tr>\n",
       "      <th>mean</th>\n",
       "      <td>3.948432e+06</td>\n",
       "      <td>1600.718977</td>\n",
       "      <td>2.386191e+03</td>\n",
       "      <td>44.193614</td>\n",
       "    </tr>\n",
       "    <tr>\n",
       "      <th>std</th>\n",
       "      <td>3.921540e+07</td>\n",
       "      <td>164.545182</td>\n",
       "      <td>2.332420e+04</td>\n",
       "      <td>12.011183</td>\n",
       "    </tr>\n",
       "    <tr>\n",
       "      <th>min</th>\n",
       "      <td>0.000000e+00</td>\n",
       "      <td>902.000000</td>\n",
       "      <td>0.000000e+00</td>\n",
       "      <td>21.000000</td>\n",
       "    </tr>\n",
       "    <tr>\n",
       "      <th>25%</th>\n",
       "      <td>2.248768e+05</td>\n",
       "      <td>1620.000000</td>\n",
       "      <td>1.482908e+02</td>\n",
       "      <td>35.000000</td>\n",
       "    </tr>\n",
       "    <tr>\n",
       "      <th>50%</th>\n",
       "      <td>5.711270e+05</td>\n",
       "      <td>1650.000000</td>\n",
       "      <td>3.598027e+02</td>\n",
       "      <td>44.000000</td>\n",
       "    </tr>\n",
       "    <tr>\n",
       "      <th>75%</th>\n",
       "      <td>1.086940e+06</td>\n",
       "      <td>1680.000000</td>\n",
       "      <td>6.794200e+02</td>\n",
       "      <td>53.000000</td>\n",
       "    </tr>\n",
       "    <tr>\n",
       "      <th>max</th>\n",
       "      <td>2.972359e+09</td>\n",
       "      <td>1700.000000</td>\n",
       "      <td>1.758792e+06</td>\n",
       "      <td>80.000000</td>\n",
       "    </tr>\n",
       "  </tbody>\n",
       "</table>\n",
       "</div>"
      ],
      "text/plain": [
       "       labor_income        hours          wage          age\n",
       "count  1.000000e+04  9896.000000  9.896000e+03  9896.000000\n",
       "mean   3.948432e+06  1600.718977  2.386191e+03    44.193614\n",
       "std    3.921540e+07   164.545182  2.332420e+04    12.011183\n",
       "min    0.000000e+00   902.000000  0.000000e+00    21.000000\n",
       "25%    2.248768e+05  1620.000000  1.482908e+02    35.000000\n",
       "50%    5.711270e+05  1650.000000  3.598027e+02    44.000000\n",
       "75%    1.086940e+06  1680.000000  6.794200e+02    53.000000\n",
       "max    2.972359e+09  1700.000000  1.758792e+06    80.000000"
      ]
     },
     "execution_count": 3,
     "metadata": {},
     "output_type": "execute_result"
    }
   ],
   "source": [
    "# Define labor earnings\n",
    "df_tax['labor_income'] = df_tax['SALARIES'] + df_tax['PRFT_GAIN_BP_OTHR_SPECLTV_BUS']\n",
    "# merge in hours\n",
    "df_hours = pd.read_csv('hrs_by_age.csv')\n",
    "df1 = df_tax.merge(df_hours, how='left', left_on='AGE', right_on='age')\n",
    "df_earn = df1[['age','labor_income', 'hours']].copy()\n",
    "# compute hourly earnings and log hourly earnings\n",
    "df_earn['wage'] = df_earn['labor_income'] / df_earn['hours']\n",
    "df_earn['ln_wage'] = np.log(df_earn['wage'])\n",
    "df_earn[['labor_income', 'hours', 'wage', 'age']].describe()"
   ]
  },
  {
   "cell_type": "code",
   "execution_count": 19,
   "metadata": {},
   "outputs": [
    {
     "name": "stdout",
     "output_type": "stream",
     "text": [
      "count    7377.000000\n",
      "mean      549.230030\n",
      "std       390.649711\n",
      "min         0.355030\n",
      "25%       274.046429\n",
      "50%       442.056548\n",
      "75%       705.171585\n",
      "max      2245.778443\n",
      "Name: wage, dtype: float64\n",
      "count    7213.000000\n",
      "mean      517.472894\n",
      "std       332.002312\n",
      "min         0.355030\n",
      "25%       271.350920\n",
      "50%       433.026220\n",
      "75%       685.374251\n",
      "max      1720.788785\n",
      "Name: wage, dtype: float64\n"
     ]
    }
   ],
   "source": [
    "# drop outliers, outside age 20-80, etc\n",
    "# drop wages outside of 3 SD's of mean\n",
    "sd_w = df_earn['wage'].std()\n",
    "mean_w = df_earn['wage'].mean()\n",
    "df_earn = df_earn[df_earn['wage'] < mean_w + 3 * sd_w]\n",
    "df_earn.query('hours >  0 & age <= 80 & age >= 21' +\n",
    "              ' & wage > 0', inplace=True)"
   ]
  },
  {
   "cell_type": "markdown",
   "metadata": {},
   "source": [
    "## Exercise 3\n",
    "\n",
    "Plot mean hourly earnings by age."
   ]
  },
  {
   "cell_type": "code",
   "execution_count": 17,
   "metadata": {},
   "outputs": [
    {
     "data": {
      "text/plain": [
       "<matplotlib.axes._subplots.AxesSubplot at 0x1a20773278>"
      ]
     },
     "execution_count": 17,
     "metadata": {},
     "output_type": "execute_result"
    },
    {
     "data": {
      "image/png": "[encoded data removed]",
      "text/plain": [
       "<Figure size 432x288 with 1 Axes>"
      ]
     },
     "metadata": {
      "needs_background": "light"
     },
     "output_type": "display_data"
    }
   ],
   "source": [
    "# compute means by age and plot\n",
    "# df_earn.set_index('age', inplace=True)\n",
    "df_earn.groupby('age')['wage'].mean().plot(x='age', y='wage')"
   ]
  },
  {
   "cell_type": "markdown",
   "metadata": {},
   "source": [
    "## Exercise 4\n",
    "\n",
    "Plot means by quartile by age.  Note that there are a couple ways to do this.  In the following, I find the distribution of wages at each age and then take of each quartile at each age."
   ]
  },
  {
   "cell_type": "code",
   "execution_count": 6,
   "metadata": {},
   "outputs": [
    {
     "data": {
      "text/html": [
       "<div>\n",
       "<style scoped>\n",
       "    .dataframe tbody tr th:only-of-type {\n",
       "        vertical-align: middle;\n",
       "    }\n",
       "\n",
       "    .dataframe tbody tr th {\n",
       "        vertical-align: top;\n",
       "    }\n",
       "\n",
       "    .dataframe thead th {\n",
       "        text-align: right;\n",
       "    }\n",
       "</style>\n",
       "<table border=\"1\" class=\"dataframe\">\n",
       "  <thead>\n",
       "    <tr style=\"text-align: right;\">\n",
       "      <th></th>\n",
       "      <th>age</th>\n",
       "      <th>labor_income</th>\n",
       "      <th>hours</th>\n",
       "      <th>wage</th>\n",
       "      <th>ln_wage</th>\n",
       "      <th>wage_pct</th>\n",
       "      <th>q</th>\n",
       "    </tr>\n",
       "  </thead>\n",
       "  <tbody>\n",
       "    <tr>\n",
       "      <th>count</th>\n",
       "      <td>7538.000000</td>\n",
       "      <td>7.538000e+03</td>\n",
       "      <td>7538.000000</td>\n",
       "      <td>7538.000000</td>\n",
       "      <td>7538.000000</td>\n",
       "      <td>7538.000000</td>\n",
       "      <td>7538.000000</td>\n",
       "    </tr>\n",
       "    <tr>\n",
       "      <th>mean</th>\n",
       "      <td>44.265057</td>\n",
       "      <td>9.685596e+05</td>\n",
       "      <td>1604.816132</td>\n",
       "      <td>605.329548</td>\n",
       "      <td>6.109253</td>\n",
       "      <td>0.503980</td>\n",
       "      <td>1.506898</td>\n",
       "    </tr>\n",
       "    <tr>\n",
       "      <th>std</th>\n",
       "      <td>11.897390</td>\n",
       "      <td>8.836191e+05</td>\n",
       "      <td>155.657698</td>\n",
       "      <td>552.929753</td>\n",
       "      <td>0.783171</td>\n",
       "      <td>0.288719</td>\n",
       "      <td>1.118087</td>\n",
       "    </tr>\n",
       "    <tr>\n",
       "      <th>min</th>\n",
       "      <td>21.000000</td>\n",
       "      <td>6.000000e+02</td>\n",
       "      <td>902.000000</td>\n",
       "      <td>0.355030</td>\n",
       "      <td>-1.035554</td>\n",
       "      <td>0.003937</td>\n",
       "      <td>0.000000</td>\n",
       "    </tr>\n",
       "    <tr>\n",
       "      <th>25%</th>\n",
       "      <td>35.000000</td>\n",
       "      <td>4.408625e+05</td>\n",
       "      <td>1620.000000</td>\n",
       "      <td>276.487332</td>\n",
       "      <td>5.622165</td>\n",
       "      <td>0.253880</td>\n",
       "      <td>1.000000</td>\n",
       "    </tr>\n",
       "    <tr>\n",
       "      <th>50%</th>\n",
       "      <td>43.000000</td>\n",
       "      <td>7.204915e+05</td>\n",
       "      <td>1650.000000</td>\n",
       "      <td>451.612906</td>\n",
       "      <td>6.112825</td>\n",
       "      <td>0.503030</td>\n",
       "      <td>2.000000</td>\n",
       "    </tr>\n",
       "    <tr>\n",
       "      <th>75%</th>\n",
       "      <td>53.000000</td>\n",
       "      <td>1.173977e+06</td>\n",
       "      <td>1680.000000</td>\n",
       "      <td>726.664312</td>\n",
       "      <td>6.588465</td>\n",
       "      <td>0.753907</td>\n",
       "      <td>3.000000</td>\n",
       "    </tr>\n",
       "    <tr>\n",
       "      <th>max</th>\n",
       "      <td>80.000000</td>\n",
       "      <td>8.393249e+06</td>\n",
       "      <td>1700.000000</td>\n",
       "      <td>4996.337500</td>\n",
       "      <td>8.516460</td>\n",
       "      <td>1.000000</td>\n",
       "      <td>3.000000</td>\n",
       "    </tr>\n",
       "  </tbody>\n",
       "</table>\n",
       "</div>"
      ],
      "text/plain": [
       "               age  labor_income        hours         wage      ln_wage  \\\n",
       "count  7538.000000  7.538000e+03  7538.000000  7538.000000  7538.000000   \n",
       "mean     44.265057  9.685596e+05  1604.816132   605.329548     6.109253   \n",
       "std      11.897390  8.836191e+05   155.657698   552.929753     0.783171   \n",
       "min      21.000000  6.000000e+02   902.000000     0.355030    -1.035554   \n",
       "25%      35.000000  4.408625e+05  1620.000000   276.487332     5.622165   \n",
       "50%      43.000000  7.204915e+05  1650.000000   451.612906     6.112825   \n",
       "75%      53.000000  1.173977e+06  1680.000000   726.664312     6.588465   \n",
       "max      80.000000  8.393249e+06  1700.000000  4996.337500     8.516460   \n",
       "\n",
       "          wage_pct            q  \n",
       "count  7538.000000  7538.000000  \n",
       "mean      0.503980     1.506898  \n",
       "std       0.288719     1.118087  \n",
       "min       0.003937     0.000000  \n",
       "25%       0.253880     1.000000  \n",
       "50%       0.503030     2.000000  \n",
       "75%       0.753907     3.000000  \n",
       "max       1.000000     3.000000  "
      ]
     },
     "execution_count": 6,
     "metadata": {},
     "output_type": "execute_result"
    }
   ],
   "source": [
    "# compute quartiles by age\n",
    "# find percentile in distrubtion for each age\n",
    "df_earn['wage_pct'] = df_earn.groupby('age')['wage'].rank(pct=True)\n",
    "# Put in bins\n",
    "groups = [0.0, 0.25, 0.5, 0.75, 1.0]\n",
    "cats_pct = ['0-25', '26-50', '51-75', '75-100']\n",
    "df_earn['q'] = pd.cut(df_earn['wage_pct'], groups, labels=False)\n",
    "df_earn.describe()"
   ]
  },
  {
   "cell_type": "code",
   "execution_count": 8,
   "metadata": {},
   "outputs": [
    {
     "data": {
      "text/plain": [
       "<matplotlib.legend.Legend at 0x1a2223c978>"
      ]
     },
     "execution_count": 8,
     "metadata": {},
     "output_type": "execute_result"
    },
    {
     "data": {
      "image/png": "[encoded data removed]",
      "text/plain": [
       "<Figure size 432x288 with 1 Axes>"
      ]
     },
     "metadata": {
      "needs_background": "light"
     },
     "output_type": "display_data"
    }
   ],
   "source": [
    "# plot by quartile\n",
    "age = np.linspace(21, 80, 60)\n",
    "for i in range(4):\n",
    "    ydata = df_earn[df_earn['q']==i].groupby('age')['wage'].mean().values\n",
    "    plt.plot(age, ydata, label='Quartile = ' + str(i + 1))\n",
    "plt.legend()"
   ]
  },
  {
   "cell_type": "markdown",
   "metadata": {},
   "source": [
    "## Exercise 5\n",
    "\n",
    "Estimate regression models of the relationship between age and log wages."
   ]
  },
  {
   "cell_type": "code",
   "execution_count": 24,
   "metadata": {},
   "outputs": [],
   "source": [
    "# regressions by quartile\n",
    "df_earn['age2'] = df_earn['age'] ** 2\n",
    "df_earn['age3'] = df_earn['age'] ** 3\n",
    "model_results = {\n",
    "    'Names': ['Constant', '', 'Age', '', 'Age^2', '', 'Age^3', '',\n",
    "              'R-Squared', 'Observations']}\n",
    "long_model_results = {'Quartile': [], 'Constant': [],\n",
    "                      'Age': [], 'Age^2': [], 'Age^3': [],\n",
    "                      'Observations': []}\n",
    "for i in range(4):\n",
    "    data = df_earn[df_earn['q']==i]\n",
    "    # run regression\n",
    "    res = smf.ols('ln_wage ~ age + age2 + age3', data=data).fit()\n",
    "    # Save model results to dictionary\n",
    "    model_results['Q' + str(i + 1)] = [\n",
    "        res.params['Intercept'],\n",
    "        res.bse['Intercept'],\n",
    "        res.params['age'], res.bse['age'],\n",
    "        res.params['age2'], res.bse['age2'],\n",
    "        res.params['age3'], res.bse['age3'],\n",
    "        res.rsquared, res.nobs]\n",
    "    long_model_results['Quartile'].append(i + 1)\n",
    "    long_model_results['Constant'].append(res.params['Intercept'])\n",
    "    long_model_results['Age'].append(res.params['age'])\n",
    "    long_model_results['Age^2'].append(res.params['age2'])\n",
    "    long_model_results['Age^3'].append(res.params['age3'])\n",
    "    long_model_results['Observations'].append(res.nobs)"
   ]
  },
  {
   "cell_type": "code",
   "execution_count": 10,
   "metadata": {},
   "outputs": [
    {
     "data": {
      "text/html": [
       "<div>\n",
       "<style scoped>\n",
       "    .dataframe tbody tr th:only-of-type {\n",
       "        vertical-align: middle;\n",
       "    }\n",
       "\n",
       "    .dataframe tbody tr th {\n",
       "        vertical-align: top;\n",
       "    }\n",
       "\n",
       "    .dataframe thead th {\n",
       "        text-align: right;\n",
       "    }\n",
       "</style>\n",
       "<table border=\"1\" class=\"dataframe\">\n",
       "  <thead>\n",
       "    <tr style=\"text-align: right;\">\n",
       "      <th></th>\n",
       "      <th>Names</th>\n",
       "      <th>Q1</th>\n",
       "      <th>Q2</th>\n",
       "      <th>Q3</th>\n",
       "      <th>Q4</th>\n",
       "    </tr>\n",
       "  </thead>\n",
       "  <tbody>\n",
       "    <tr>\n",
       "      <th>0</th>\n",
       "      <td>Constant</td>\n",
       "      <td>2.275087</td>\n",
       "      <td>3.522676</td>\n",
       "      <td>1.565826</td>\n",
       "      <td>1.721977</td>\n",
       "    </tr>\n",
       "    <tr>\n",
       "      <th>1</th>\n",
       "      <td></td>\n",
       "      <td>0.506987</td>\n",
       "      <td>0.158663</td>\n",
       "      <td>0.159477</td>\n",
       "      <td>0.364215</td>\n",
       "    </tr>\n",
       "    <tr>\n",
       "      <th>2</th>\n",
       "      <td>Age</td>\n",
       "      <td>0.159523</td>\n",
       "      <td>0.114236</td>\n",
       "      <td>0.282001</td>\n",
       "      <td>0.314390</td>\n",
       "    </tr>\n",
       "    <tr>\n",
       "      <th>3</th>\n",
       "      <td></td>\n",
       "      <td>0.034051</td>\n",
       "      <td>0.010638</td>\n",
       "      <td>0.010707</td>\n",
       "      <td>0.024387</td>\n",
       "    </tr>\n",
       "    <tr>\n",
       "      <th>4</th>\n",
       "      <td>Age^2</td>\n",
       "      <td>-0.002748</td>\n",
       "      <td>-0.001717</td>\n",
       "      <td>-0.005328</td>\n",
       "      <td>-0.005960</td>\n",
       "    </tr>\n",
       "    <tr>\n",
       "      <th>5</th>\n",
       "      <td></td>\n",
       "      <td>0.000729</td>\n",
       "      <td>0.000227</td>\n",
       "      <td>0.000229</td>\n",
       "      <td>0.000520</td>\n",
       "    </tr>\n",
       "    <tr>\n",
       "      <th>6</th>\n",
       "      <td>Age^3</td>\n",
       "      <td>0.000015</td>\n",
       "      <td>0.000008</td>\n",
       "      <td>0.000033</td>\n",
       "      <td>0.000037</td>\n",
       "    </tr>\n",
       "    <tr>\n",
       "      <th>7</th>\n",
       "      <td></td>\n",
       "      <td>0.000005</td>\n",
       "      <td>0.000002</td>\n",
       "      <td>0.000002</td>\n",
       "      <td>0.000004</td>\n",
       "    </tr>\n",
       "    <tr>\n",
       "      <th>8</th>\n",
       "      <td>R-Squared</td>\n",
       "      <td>0.063920</td>\n",
       "      <td>0.488282</td>\n",
       "      <td>0.502998</td>\n",
       "      <td>0.193029</td>\n",
       "    </tr>\n",
       "    <tr>\n",
       "      <th>9</th>\n",
       "      <td>Observations</td>\n",
       "      <td>1864.000000</td>\n",
       "      <td>1894.000000</td>\n",
       "      <td>1875.000000</td>\n",
       "      <td>1905.000000</td>\n",
       "    </tr>\n",
       "  </tbody>\n",
       "</table>\n",
       "</div>"
      ],
      "text/plain": [
       "          Names           Q1           Q2           Q3           Q4\n",
       "0      Constant     2.275087     3.522676     1.565826     1.721977\n",
       "1                   0.506987     0.158663     0.159477     0.364215\n",
       "2           Age     0.159523     0.114236     0.282001     0.314390\n",
       "3                   0.034051     0.010638     0.010707     0.024387\n",
       "4         Age^2    -0.002748    -0.001717    -0.005328    -0.005960\n",
       "5                   0.000729     0.000227     0.000229     0.000520\n",
       "6         Age^3     0.000015     0.000008     0.000033     0.000037\n",
       "7                   0.000005     0.000002     0.000002     0.000004\n",
       "8     R-Squared     0.063920     0.488282     0.502998     0.193029\n",
       "9  Observations  1864.000000  1894.000000  1875.000000  1905.000000"
      ]
     },
     "execution_count": 10,
     "metadata": {},
     "output_type": "execute_result"
    }
   ],
   "source": [
    "# put results in a table\n",
    "results_df = pd.DataFrame(model_results)\n",
    "results_df"
   ]
  },
  {
   "cell_type": "code",
   "execution_count": 11,
   "metadata": {},
   "outputs": [
    {
     "data": {
      "text/plain": [
       "<matplotlib.legend.Legend at 0x1a2232acf8>"
      ]
     },
     "execution_count": 11,
     "metadata": {},
     "output_type": "execute_result"
    },
    {
     "data": {
      "image/png": "[encoded data removed]",
      "text/plain": [
       "<Figure size 432x288 with 1 Axes>"
      ]
     },
     "metadata": {
      "needs_background": "light"
     },
     "output_type": "display_data"
    }
   ],
   "source": [
    "# plot results\n",
    "for i in range(4):\n",
    "    ydata = (long_model_results['Constant'][i] +\n",
    "             long_model_results['Age'][i] * age +\n",
    "             long_model_results['Age^2'][i] * age ** 2 +\n",
    "             long_model_results['Age^3'][i] * age ** 3)\n",
    "    plt.plot(age, ydata, label='Quartile = ' + str(i + 1))\n",
    "plt.legend()\n",
    "    "
   ]
  }
 ],
 "metadata": {
  "kernelspec": {
   "display_name": "Python 3",
   "language": "python",
   "name": "python3"
  },
  "language_info": {
   "codemirror_mode": {
    "name": "ipython",
    "version": 3
   },
   "file_extension": ".py",
   "mimetype": "text/x-python",
   "name": "python",
   "nbconvert_exporter": "python",
   "pygments_lexer": "ipython3",
   "version": "3.7.3"
  }
 },
 "nbformat": 4,
 "nbformat_minor": 2
}
