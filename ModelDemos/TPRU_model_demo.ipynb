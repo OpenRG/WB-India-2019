{
 "cells": [
  {
   "cell_type": "markdown",
   "metadata": {},
   "source": [
    "## TPRU: Tax Model Demonstration\n",
    "#### August 23, 2019\n",
    "\n",
    "The [Policy Simulation Library](https://www.pslmodels.org) (PSL) hosts open-source, policy-related models that conform to certain standards for model I/O, documentation, and testing.\n",
    "\n",
    "In this notebook, we illustrate how three of these models ([`Tax-Calculator`](https://github.com/PSLmodels/Tax-Calculator), [`Behavioral-Responses`](https://github.com/PSLmodels/Behavioral-Responses), [`Cost-of-Capital-Calculator`](https://github.com/PSLmodels/Cost-of-Capital-Calculator), [`OG-USA`](https://github.com/PSLmodels/OG-USA)) can work together to provide a broad analysis of set of tax policies.\n",
    "\n",
    "\n",
    "#### Setup\n",
    "Before running this notebook, you must open a terminal window and install the Tax-Calculator (taxcalc), Cost-of-Capital-Calculator (ccc), and OG-USA (ogusa) packages.\n",
    "* [`Tax-Calculator`](https://github.com/PSLmodels/Tax-Calculator) (taxcalc): This package can be downloaded from Anaconda. Go to terminal and type `conda install -c PSLmodels taxcalc`\n",
    "* [`Behavioral-Responses`](https://github.com/PSLmodels/Behavioral-Responses) (behresp): This package can be downloaded from Anaconda. Go to terminal and type `conda install -c PSLmodels behresp`\n",
    "* [`Cost-of-Capital-Calculator`](https://github.com/PSLmodels/Cost-of-Capital-Calculator) (ccc): This package can be downloaded from Anaconda. Go to terminal and type `conda install -c PSLmodels ccc`.\n",
    "* [`OG-USA`](https://github.com/PSLmodels/OG-USA) (ogusa): This package must be cloned and set up a specific environment. Follow the instructions in the main [`README.md`](https://github.com/PSLmodels/OG-USA/blob/master/README.md)."
   ]
  },
  {
   "cell_type": "code",
   "execution_count": null,
   "metadata": {},
   "outputs": [],
   "source": [
    "# imports\n",
    "import pandas as pd\n",
    "import numpy as np\n",
    "import pickle\n",
    "import matplotlib.pyplot as plt\n",
    "from bokeh.plotting import figure, show\n",
    "from bokeh.io import output_notebook\n",
    "# import PSL models\n",
    "import taxcalc\n",
    "import ccc\n",
    "import behresp\n",
    "from ogusa import output_plots as op\n",
    "# to print bokeh plots inline\n",
    "output_notebook()\n",
    "# to print matplotlib plots inline\n",
    "%matplotlib inline"
   ]
  },
  {
   "cell_type": "markdown",
   "metadata": {},
   "source": [
    "## Revenue estimates and distributional analysis of the personal income tax with Tax-Calculator\n",
    "\n",
    "We'll start by using the `Tax-Calculator` model, a microsimulation model of individual income taxes and payroll taxes.  This model can be used for revenue estimation, distributional analysis, effective tax rate calculations, and other uses.\n",
    "\n",
    "As an example to work with, we'll simulate the Tax Cuts and Jobs Act.  Since this represents current law, which is the baseline policy in Tax-Calculator, we'll need to specify changes to this that represent tax law in 2017:"
   ]
  },
  {
   "cell_type": "code",
   "execution_count": null,
   "metadata": {},
   "outputs": [],
   "source": [
    "law2017_url = ('https://raw.githubusercontent.com/'\n",
    "              'PSLmodels/Tax-Calculator/master/taxcalc/'\n",
    "              'reforms/2017_law.json')\n",
    "law2017_dict = taxcalc.Policy.read_json_reform(law2017_url)\n",
    "law2017_dict"
   ]
  },
  {
   "cell_type": "code",
   "execution_count": null,
   "metadata": {},
   "outputs": [],
   "source": [
    "# Create calculators for 2017 law and TCJA\n",
    "pol = taxcalc.policy.Policy()\n",
    "rec = taxcalc.records.Records.cps_constructor()\n",
    "tc_tcja = taxcalc.calculator.Calculator(policy=pol, records=rec)\n",
    "pol.implement_reform(law2017_dict)\n",
    "tc_2017 = taxcalc.calculator.Calculator(policy=pol, records=rec)"
   ]
  },
  {
   "cell_type": "markdown",
   "metadata": {},
   "source": [
    "### Revenue Estimation"
   ]
  },
  {
   "cell_type": "code",
   "execution_count": null,
   "metadata": {},
   "outputs": [],
   "source": [
    "# Compute annual revenue for each year in a 10 year budget window\n",
    "# Do this for 2017 law and the TCJA\n",
    "rev_2017 = {'iit': {}, 'payroll': {}}\n",
    "rev_tcja = {'iit': {}, 'payroll': {}}\n",
    "for t in range(2018, 2028):\n",
    "    tc_2017.advance_to_year(t)\n",
    "    tc_2017.calc_all()\n",
    "    tc_tcja.advance_to_year(t)\n",
    "    tc_tcja.calc_all()\n",
    "    rev_2017['iit'][t] = tc_2017.weighted_total('iitax')\n",
    "    rev_2017['payroll'][t] = tc_2017.weighted_total('payrolltax')\n",
    "    rev_tcja['iit'][t] = tc_tcja.weighted_total('iitax')\n",
    "    rev_tcja['payroll'][t] = tc_tcja.weighted_total('payrolltax')"
   ]
  },
  {
   "cell_type": "code",
   "execution_count": null,
   "metadata": {},
   "outputs": [],
   "source": [
    "# make table of revenue estimates\n",
    "rev_2017_df = pd.DataFrame.from_dict(rev_2017).T\n",
    "rev_tcja_df = pd.DataFrame.from_dict(rev_tcja).T\n",
    "diff_df = (rev_tcja_df - rev_2017_df) * 1e-9\n",
    "pd.options.display.float_format = '${:.3f}'.format\n",
    "diff_df.sum(axis=1)"
   ]
  },
  {
   "cell_type": "markdown",
   "metadata": {},
   "source": [
    "### Distributional Analysis and Effective Rates Calculations"
   ]
  },
  {
   "cell_type": "code",
   "execution_count": null,
   "metadata": {},
   "outputs": [],
   "source": [
    "# Restart calculation to get back to first year\n",
    "pol = taxcalc.policy.Policy()\n",
    "tc_tcja = taxcalc.calculator.Calculator(policy=pol, records=rec)\n",
    "pol.implement_reform(law2017_dict)\n",
    "tc_2017 = taxcalc.calculator.Calculator(policy=pol, records=rec)\n",
    "tc_2017.advance_to_year(2018)\n",
    "tc_tcja.advance_to_year(2018)\n",
    "tc_2017.calc_all()\n",
    "tc_tcja.calc_all()\n",
    "# Average tax rate plot\n",
    "atr_plot = tc_2017.atr_graph(tc_tcja)\n",
    "show(atr_plot)"
   ]
  },
  {
   "cell_type": "code",
   "execution_count": null,
   "metadata": {},
   "outputs": [],
   "source": [
    "pch_plot = tc_2017.pch_graph(tc_tcja)\n",
    "show(pch_plot)"
   ]
  },
  {
   "cell_type": "code",
   "execution_count": null,
   "metadata": {},
   "outputs": [],
   "source": [
    "# Distributional table\n",
    "tc_2017.difference_table(tc_tcja, 'standard_income_bins', 'combined')"
   ]
  },
  {
   "cell_type": "code",
   "execution_count": null,
   "metadata": {},
   "outputs": [],
   "source": [
    "# Marginal tax rate plot\n",
    "mtr_plot = tc_2017.mtr_graph(tc_tcja)\n",
    "show(mtr_plot)"
   ]
  },
  {
   "cell_type": "markdown",
   "metadata": {},
   "source": [
    "## Including behavioral responses\n",
    "\n",
    "Using the `Behavior-Response` package, we can apply partial-equilibrium behavioral responses to the analysis using `Tax-Calculator`:"
   ]
  },
  {
   "cell_type": "code",
   "execution_count": null,
   "metadata": {},
   "outputs": [],
   "source": [
    "# specify assumed non-zero response-function substitution elasticity\n",
    "response_elasticities = {'sub': 0.6}\n",
    "# apply a behavioral response to the change in after-tax income from the reform\n",
    "_, df2br = behresp.response(tc_2017, tc_tcja, response_elasticities)\n",
    "\n",
    "# Calculate reform income tax liabilities for 2018 with behavioral response\n",
    "itax_rev2br = (df2br['iitax'] * df2br['s006']).sum()\n",
    "# Calculate baseline income tax liabilities for 2018\n",
    "base_rev = tc_2017.weighted_total('iitax')\n",
    "# Calculate reform income tax liabilities for 2018 without behavior responses\n",
    "reform_rev_static = tc_tcja.weighted_total('iitax')\n",
    "\n",
    "# Change in total income tax revenue estimates for 2018 (policy-baseline)\n",
    "# (estimates in billons of dollars)\n",
    "print('{}_STATIC_itax_rev_change($B)= {:.3f}'.format(\n",
    "    2018, (reform_rev_static - base_rev) * 1e-9))\n",
    "print('{}_DYNAMIC_itax_rev_change($B)= {:.3f}'.format(\n",
    "    2018, (itax_rev2br - base_rev) * 1e-9))"
   ]
  },
  {
   "cell_type": "markdown",
   "metadata": {},
   "source": [
    "## Effective tax rates with the Cost-of-Capital-Calculator\n",
    "\n",
    "Another important consideration in tax policy are the incentive effects of taxation on business investment.  The Cost-of-Capital-Calculator (CCC) is a model that allows one to explore effects of tax policy on the cost of capital and effective tax rates (ETR).\n",
    "\n",
    "CCC computes the the cost of capital CCC and ETRS across business entity tax treatment (e.g., corporate vs non-corporate), indusry, and asset type.  When considering the effects of the individual income tax on savings and investment decisions, CCC uses the output from Tax-Calculator.\n",
    "\n",
    "Here, we use CCC to provide an analysis of the effects of the TCJA on investment incentives."
   ]
  },
  {
   "cell_type": "code",
   "execution_count": null,
   "metadata": {},
   "outputs": [],
   "source": [
    "# Load asset data\n",
    "assets = ccc.data.Assets()\n",
    "assets.df.head(n=5)"
   ]
  },
  {
   "cell_type": "code",
   "execution_count": null,
   "metadata": {},
   "outputs": [],
   "source": [
    "# To compare two policies, create two model specifications\n",
    "# Then use the Calculator class to compute ETRs (and more)\n",
    "# across the two specifications\n",
    "# Create an instance of the Specification class\n",
    "spec_2017 = ccc.parameters.Specification(year=2018, call_tc=True, iit_reform=law2017_dict)\n",
    "business_law_2017 = business_tax_reform = {\n",
    "    'CIT_rate': 0.35, 'BonusDeprec_3yr': 0.50, 'BonusDeprec_5yr': 0.50,\n",
    "    'BonusDeprec_7yr': 0.50, 'BonusDeprec_10yr': 0.50,\n",
    "    'BonusDeprec_15yr': 0.50, 'BonusDeprec_20yr': 0.50}\n",
    "spec_2017.update_specification(business_law_2017)\n",
    "calc_2017 = ccc.calculator.Calculator(spec_2017, assets)\n",
    "spec_tcja = ccc.parameters.Specification(year=2018, call_tc=True, iit_reform={})\n",
    "calc_tcja = ccc.calculator.Calculator(spec_tcja, assets)"
   ]
  },
  {
   "cell_type": "code",
   "execution_count": null,
   "metadata": {},
   "outputs": [],
   "source": [
    "# Summary table\n",
    "pd.options.display.float_format = '{:.2f}%'.format\n",
    "calc_2017.summary_table(\n",
    "    calc_tcja, output_variable='metr',\n",
    "    include_land=True, include_inventories=True)"
   ]
  },
  {
   "cell_type": "code",
   "execution_count": null,
   "metadata": {},
   "outputs": [],
   "source": [
    "# Plot to show variation in METRs across assets\n",
    "rplot = calc_2017.range_plot(\n",
    "    calc_tcja, corporate=True, output_variable='metr',\n",
    "    include_land=False, include_inventories=False)\n",
    "show(rplot)"
   ]
  },
  {
   "cell_type": "code",
   "execution_count": null,
   "metadata": {},
   "outputs": [],
   "source": [
    "# Visualizing changes by asset\n",
    "aplot = calc_2017.grouped_bar(calc_tcja, include_land=True, include_inventories=True)\n",
    "show(aplot)"
   ]
  },
  {
   "cell_type": "code",
   "execution_count": null,
   "metadata": {},
   "outputs": [],
   "source": [
    "# Visualizing changes by industry\n",
    "iplot = calc_2017.grouped_bar(calc_tcja, group_by_asset=False)\n",
    "show(iplot)"
   ]
  },
  {
   "cell_type": "code",
   "execution_count": null,
   "metadata": {},
   "outputs": [],
   "source": [
    "bplot = calc_2017.asset_bubble(calc_tcja)\n",
    "show(bplot)"
   ]
  },
  {
   "cell_type": "markdown",
   "metadata": {},
   "source": [
    "## Macro results with OG-USA\n",
    "\n",
    "OG-USA is a overlapping generations model used to evaluate fiscal policy.  OG-USA is calibrated to the U.S. economy, but we've run this source code with a calibration to Italy (Calling the model OG-ITA) and are in the process of calibrating OG-India.\n",
    "\n",
    "OG-USA will show aggregate effects of tax policy (as well as impacts across generations and skill groups) from the current period until the economy reaches its long-run steady state.\n",
    "\n",
    "OG-USA takes some time to run (1+ hours to solve the model), so we've cached some results where we simulated the transition from 2017 law to the TCJA.  "
   ]
  },
  {
   "cell_type": "code",
   "execution_count": null,
   "metadata": {},
   "outputs": [],
   "source": [
    "# Load in OG-USA results and parameterizations\n",
    "from ogusa import utils\n",
    "base_tpi = utils.safe_read_pickle('./TCJA_Results/OUTPUT_BASELINE/partial/TPI/TPI_vars.pkl')\n",
    "base_ss = utils.safe_read_pickle('./TCJA_Results/OUTPUT_BASELINE/partial/SS/SS_vars.pkl')\n",
    "base_params = utils.safe_read_pickle('./TCJA_Results/OUTPUT_BASELINE/partial/model_params.pkl')\n",
    "reform_tpi = utils.safe_read_pickle('./TCJA_Results/OUTPUT_REFORM/partial/TPI/TPI_vars.pkl')\n",
    "reform_ss = utils.safe_read_pickle('./TCJA_Results/OUTPUT_REFORM/partial/SS/SS_vars.pkl')\n",
    "reform_params = utils.safe_read_pickle('./TCJA_Results/OUTPUT_REFORM/partial/model_params.pkl')"
   ]
  },
  {
   "cell_type": "code",
   "execution_count": null,
   "metadata": {},
   "outputs": [],
   "source": [
    "# Plot OG-USA output; interest rates\n",
    "rplot = op.plot_aggregates(\n",
    "    base_tpi, base_params, reform_tpi=reform_tpi,\n",
    "    reform_params=reform_params, var_list=['r_gov'],\n",
    "    plot_type='levels', num_years_to_plot=22,\n",
    "    vertical_line_years=[\n",
    "        base_params.start_year + base_params.tG1,\n",
    "        base_params.start_year + base_params.tG2],\n",
    "    plot_title='Real Interest Rates Under Baseline and Reform')"
   ]
  },
  {
   "cell_type": "code",
   "execution_count": null,
   "metadata": {},
   "outputs": [],
   "source": [
    "# Plot OG-USA output; government debt\n",
    "dplot = op.plot_gdp_ratio(base_tpi, base_params, reform_tpi, reform_params,\n",
    "                   var_list=['D'], num_years_to_plot=100,\n",
    "                   start_year=2019, vertical_line_years=[\n",
    "                           base_params.start_year + base_params.tG1,\n",
    "                           base_params.start_year + base_params.tG2],\n",
    "                   plot_title='Debt-to-GDP')"
   ]
  },
  {
   "cell_type": "code",
   "execution_count": null,
   "metadata": {},
   "outputs": [],
   "source": [
    "# Plot OG-USA output; percentage changes in macro vars (Y, K, L, C)\n",
    "pct_chg_plot = op.plot_aggregates(base_tpi, base_params, reform_tpi=reform_tpi,\n",
    "                    reform_params=reform_params,\n",
    "                    var_list=['Y', 'K', 'L', 'C'], plot_type='pct_diff',\n",
    "                    num_years_to_plot=100,\n",
    "                    vertical_line_years=[\n",
    "                        base_params.start_year + base_params.tG1,\n",
    "                        base_params.start_year + base_params.tG2],\n",
    "                    plot_title='Percentage Changes in Macro Aggregates')"
   ]
  },
  {
   "cell_type": "code",
   "execution_count": null,
   "metadata": {},
   "outputs": [],
   "source": [
    "# Plot OG-USA output; Levels of GDP\n",
    "pct_chg_plot = op.plot_aggregates(base_tpi, base_params, reform_tpi=reform_tpi,\n",
    "                    reform_params=reform_params,\n",
    "                    var_list=['Y'], plot_type='cbo',\n",
    "                    num_years_to_plot=22,\n",
    "                    vertical_line_years=[\n",
    "                        base_params.start_year + base_params.tG1,\n",
    "                        base_params.start_year + base_params.tG2],\n",
    "                    plot_title='GDP Levels under Baseline and Reform')"
   ]
  },
  {
   "cell_type": "code",
   "execution_count": null,
   "metadata": {},
   "outputs": [],
   "source": [
    "# Plot OG-USA output; percentage changes in investment\n",
    "pct_chg_plot = op.plot_aggregates(base_tpi, base_params, reform_tpi=reform_tpi,\n",
    "                    reform_params=reform_params,\n",
    "                    var_list=['I_total'], plot_type='pct_diff',\n",
    "                    num_years_to_plot=22,\n",
    "                    vertical_line_years=[\n",
    "                        base_params.start_year + base_params.tG1,\n",
    "                        base_params.start_year + base_params.tG2],\n",
    "                    plot_title='Percentage Changes in Investment')"
   ]
  },
  {
   "cell_type": "code",
   "execution_count": null,
   "metadata": {},
   "outputs": [],
   "source": [
    "# Plot OG-USA output; percentage changes in macro vars (Y, K, L, C)\n",
    "pct_chg_plot = op.plot_aggregates(base_tpi, base_params, reform_tpi=reform_tpi,\n",
    "                    reform_params=reform_params,\n",
    "                    var_list=['G', 'total_revenue'], plot_type='levels',\n",
    "                    num_years_to_plot=22,\n",
    "                    vertical_line_years=[\n",
    "                        base_params.start_year + base_params.tG1,\n",
    "                        base_params.start_year + base_params.tG2],\n",
    "                    plot_title='Fiscal Vars')"
   ]
  },
  {
   "cell_type": "code",
   "execution_count": null,
   "metadata": {},
   "outputs": [],
   "source": [
    "op.ss_profiles(base_ss, base_params, reform_ss=None,\n",
    "                reform_params=None, by_j=False, var='nssmat',\n",
    "                plot_data=True,\n",
    "                plot_title=None, path=None)"
   ]
  },
  {
   "cell_type": "code",
   "execution_count": null,
   "metadata": {},
   "outputs": [],
   "source": []
  }
 ],
 "metadata": {
  "kernelspec": {
   "display_name": "ogusa-dev",
   "language": "python",
   "name": "ogusa-dev"
  },
  "language_info": {
   "codemirror_mode": {
    "name": "ipython",
    "version": 3
   },
   "file_extension": ".py",
   "mimetype": "text/x-python",
   "name": "python",
   "nbconvert_exporter": "python",
   "pygments_lexer": "ipython3",
   "version": "3.6.10"
  }
 },
 "nbformat": 4,
 "nbformat_minor": 2
}
