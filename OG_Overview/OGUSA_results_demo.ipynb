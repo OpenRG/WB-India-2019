{
 "cells": [
  {
   "cell_type": "markdown",
   "metadata": {},
   "source": [
    "## OG-USA Output Demonstration\n",
    "#### August 19, 2019\n",
    "\n",
    "This notebook illustrates how to visualize and summarize the results of policy simulations from [`OG-USA`](https://github.com/PSLmodels/OG-USA)).  `OG-USA` is computationally intensive to run (often taking several hours to compute a solution) and therefore this notebook works with cached results.  The simulaitons here represent the impact on the U.S. economy of the so-called Tax Cuts and Jobs Act of 2017 (with the exception of some parts of the legistlation that are outside the scope of the model's capabilities).\n",
    "\n",
    "### The Tax Cuts and Jobs Act\n",
    "The TCJA is an interesting reform to look at since it represents a large change in tax policy.  Among the changes modeled here:\n",
    "* Reductions in marginal rates on income taxes\n",
    "* A special deduction for pass-through business income\n",
    "* The elmination of the personal exemption\n",
    "* Limitations on certain itemized deductions\n",
    "* An expansion of the child tax credit\n",
    "* An expansion of the standard deduction\n",
    "* A lower corporate tax rate\n",
    "* Full expensing of certain investments\n",
    "\n",
    "\n",
    "#### Setup\n",
    "Before running this notebook, you must open a terminal window and install the `OG-USA` (ogusa) package. This package must be cloned and set up in a specific environment. Please follow the instructions in the main [`README.md`](https://github.com/PSLmodels/OG-USA/blob/master/README.md)."
   ]
  },
  {
   "cell_type": "code",
   "execution_count": 1,
   "metadata": {},
   "outputs": [],
   "source": [
    "# imports\n",
    "import pandas as pd\n",
    "import numpy as np\n",
    "import pickle\n",
    "import matplotlib.pyplot as plt\n",
    "from bokeh.plotting import figure, show\n",
    "from bokeh.io import output_notebook\n",
    "# import OG-USA modules\n",
    "from ogusa import output_plots as op\n",
    "from ogusa import output_tables as ot\n",
    "from ogusa import parameter_tables as pt\n",
    "from ogusa import parameter_plots as pp\n",
    "# to print matplotlib plots inline\n",
    "%matplotlib inline"
   ]
  },
  {
   "cell_type": "code",
   "execution_count": 2,
   "metadata": {},
   "outputs": [],
   "source": [
    "# Load in OG-USA results and parameterizations\n",
    "base_ss = pickle.load(open('./TCJA_Results/OUTPUT_BASELINE/partial/SS/SS_vars.pkl', 'rb'))\n",
    "base_tpi = pickle.load(open('./TCJA_Results/OUTPUT_BASELINE/partial/TPI/TPI_vars.pkl', 'rb'))\n",
    "base_params = pickle.load(open('./TCJA_Results/OUTPUT_BASELINE/partial/model_params.pkl', 'rb'))\n",
    "base_taxfunctions = pickle.load(open('./TCJA_Results/OUTPUT_BASELINE/partial/TxFuncEst_baseline.pkl', 'rb'))\n",
    "reform_ss = pickle.load(open('./TCJA_Results/OUTPUT_REFORM/partial/SS/SS_vars.pkl', 'rb'))\n",
    "reform_tpi = pickle.load(open('./TCJA_Results/OUTPUT_REFORM/partial/TPI/TPI_vars.pkl', 'rb'))\n",
    "reform_params = pickle.load(open('./TCJA_Results/OUTPUT_REFORM/partial/model_params.pkl', 'rb'))\n",
    "reform_taxfunctions = pickle.load(open('./TCJA_Results/OUTPUT_REFORM/partial/TxFuncEst_policy.pkl', 'rb'))"
   ]
  },
  {
   "cell_type": "markdown",
   "metadata": {},
   "source": [
    "## Effects of the TCJA on tax rates\n",
    "\n",
    "We can start by considering how invidual income tax rates were changed by the new law.  This will be helpful to identify have the average burden changes over time as a result of the reform.\n",
    "\n",
    "### changes in effective tax rates:"
   ]
  },
  {
   "cell_type": "code",
   "execution_count": 3,
   "metadata": {},
   "outputs": [
    {
     "data": {
      "text/html": [
       "<div>\n",
       "<style scoped>\n",
       "    .dataframe tbody tr th:only-of-type {\n",
       "        vertical-align: middle;\n",
       "    }\n",
       "\n",
       "    .dataframe tbody tr th {\n",
       "        vertical-align: top;\n",
       "    }\n",
       "\n",
       "    .dataframe thead th {\n",
       "        text-align: right;\n",
       "    }\n",
       "</style>\n",
       "<table border=\"1\" class=\"dataframe\">\n",
       "  <thead>\n",
       "    <tr style=\"text-align: right;\">\n",
       "      <th>Year</th>\n",
       "      <th>2019</th>\n",
       "      <th>2020</th>\n",
       "      <th>2021</th>\n",
       "      <th>2022</th>\n",
       "      <th>2023</th>\n",
       "      <th>2024</th>\n",
       "      <th>2025</th>\n",
       "      <th>2026</th>\n",
       "      <th>2027</th>\n",
       "    </tr>\n",
       "  </thead>\n",
       "  <tbody>\n",
       "    <tr>\n",
       "      <th>Year</th>\n",
       "      <td>2019.000000</td>\n",
       "      <td>2020.000000</td>\n",
       "      <td>2021.000000</td>\n",
       "      <td>2022.000000</td>\n",
       "      <td>2023.000000</td>\n",
       "      <td>2024.000000</td>\n",
       "      <td>2025.000000</td>\n",
       "      <td>2026.000000</td>\n",
       "      <td>2027.000000</td>\n",
       "    </tr>\n",
       "    <tr>\n",
       "      <th>Baseline Effective Tax Rates</th>\n",
       "      <td>18.426110</td>\n",
       "      <td>18.326140</td>\n",
       "      <td>18.194360</td>\n",
       "      <td>18.060451</td>\n",
       "      <td>17.925931</td>\n",
       "      <td>17.794872</td>\n",
       "      <td>17.671344</td>\n",
       "      <td>17.547696</td>\n",
       "      <td>17.422387</td>\n",
       "    </tr>\n",
       "    <tr>\n",
       "      <th>Reform Effective Tax Rates</th>\n",
       "      <td>17.234012</td>\n",
       "      <td>17.156599</td>\n",
       "      <td>17.048843</td>\n",
       "      <td>16.925989</td>\n",
       "      <td>16.814434</td>\n",
       "      <td>16.706116</td>\n",
       "      <td>16.593770</td>\n",
       "      <td>17.659244</td>\n",
       "      <td>17.548882</td>\n",
       "    </tr>\n",
       "    <tr>\n",
       "      <th>Difference</th>\n",
       "      <td>-1.192098</td>\n",
       "      <td>-1.169541</td>\n",
       "      <td>-1.145517</td>\n",
       "      <td>-1.134463</td>\n",
       "      <td>-1.111497</td>\n",
       "      <td>-1.088756</td>\n",
       "      <td>-1.077574</td>\n",
       "      <td>0.111549</td>\n",
       "      <td>0.126495</td>\n",
       "    </tr>\n",
       "  </tbody>\n",
       "</table>\n",
       "</div>"
      ],
      "text/plain": [
       "Year                                 2019         2020         2021  \\\n",
       "Year                          2019.000000  2020.000000  2021.000000   \n",
       "Baseline Effective Tax Rates    18.426110    18.326140    18.194360   \n",
       "Reform Effective Tax Rates      17.234012    17.156599    17.048843   \n",
       "Difference                      -1.192098    -1.169541    -1.145517   \n",
       "\n",
       "Year                                 2022         2023         2024  \\\n",
       "Year                          2022.000000  2023.000000  2024.000000   \n",
       "Baseline Effective Tax Rates    18.060451    17.925931    17.794872   \n",
       "Reform Effective Tax Rates      16.925989    16.814434    16.706116   \n",
       "Difference                      -1.134463    -1.111497    -1.088756   \n",
       "\n",
       "Year                                 2025         2026         2027  \n",
       "Year                          2025.000000  2026.000000  2027.000000  \n",
       "Baseline Effective Tax Rates    17.671344    17.547696    17.422387  \n",
       "Reform Effective Tax Rates      16.593770    17.659244    17.548882  \n",
       "Difference                      -1.077574     0.111549     0.126495  "
      ]
     },
     "execution_count": 3,
     "metadata": {},
     "output_type": "execute_result"
    }
   ],
   "source": [
    "# Table of tax rates:\n",
    "pt.tax_rate_table(base_taxfunctions, base_params, reform_taxfunctions,\n",
    "                   reform_params, rate_type='ETR', table_format=None)"
   ]
  },
  {
   "cell_type": "markdown",
   "metadata": {},
   "source": [
    "## Effects of the TCJA on macroeconomic aggregates\n",
    "\n",
    "We begin this illustration by showing the effect of the TCJA on macroeconomic aggregates.  The OG model gives these aggregates in model units (which equate to units of GDP).  Therefore, it's often useful to look at the effects of the reform policy in terms of the changes relative to the baseline.  \n",
    "\n",
    "Here are percentage changes in macro aggregates as a result of the TCJA:"
   ]
  },
  {
   "cell_type": "code",
   "execution_count": 7,
   "metadata": {},
   "outputs": [
    {
     "data": {
      "image/png": "[encoded data removed]",
      "text/plain": [
       "<Figure size 432x288 with 1 Axes>"
      ]
     },
     "metadata": {
      "needs_background": "light"
     },
     "output_type": "display_data"
    }
   ],
   "source": [
    "# Plot OG-USA output; percentage changes in macro vars (Y, K, L, C)\n",
    "pct_chg_plot = op.plot_aggregates(base_tpi, base_params, reform_tpi=reform_tpi,\n",
    "                    reform_params=reform_params,\n",
    "                    var_list=['Y', 'K', 'L', 'C', 'total_revenue'], plot_type='pct_diff',\n",
    "                    num_years_to_plot=100,\n",
    "                    vertical_line_years=[\n",
    "                        base_params.start_year + base_params.tG1,\n",
    "                        base_params.start_year + base_params.tG2],\n",
    "                    plot_title='Percentage Changes in Macro Aggregates')"
   ]
  },
  {
   "cell_type": "markdown",
   "metadata": {},
   "source": [
    "### in table format:"
   ]
  },
  {
   "cell_type": "code",
   "execution_count": null,
   "metadata": {},
   "outputs": [],
   "source": [
    "# table of output\n",
    "ot.macro_table(base_tpi, base_params, reform_tpi=reform_tpi,\n",
    "                    reform_params=reform_params)"
   ]
  },
  {
   "cell_type": "markdown",
   "metadata": {},
   "source": [
    "# Effect on government debt\n",
    "\n",
    "We can see above that while the tax change has positive effects on GDP and other economic aggregates over the first few years, the effects of the policy on macro outcomes become negative after 2026.\n",
    "\n",
    "Part of the reason for this is that several components of the policy are temporary.  E.g., the individual rate cuts and the special deduction for pass-through business owners expire after 2025.\n",
    "\n",
    "Another issue affecting long run outcomes are the large budget deficits that need to be financed by more government borrowing.  The increase in borrowing increases the demand for loanable funds and pushes up interest rates.  Higher interest rates result in a lower quantity of capital demaned.\n",
    "\n",
    "We can see this by looking at the path of government debt:"
   ]
  },
  {
   "cell_type": "code",
   "execution_count": 5,
   "metadata": {},
   "outputs": [
    {
     "data": {
      "image/png": "[encoded data removed]",
      "text/plain": [
       "<Figure size 432x288 with 1 Axes>"
      ]
     },
     "metadata": {
      "needs_background": "light"
     },
     "output_type": "display_data"
    }
   ],
   "source": [
    "# Plot OG-USA output; government debt\n",
    "dplot = op.plot_gdp_ratio(base_tpi, base_params, reform_tpi, reform_params,\n",
    "                   var_list=['D'], num_years_to_plot=150,\n",
    "                   start_year=2019, vertical_line_years=[\n",
    "                           base_params.start_year + base_params.tG1,\n",
    "                           base_params.start_year + base_params.tG2],\n",
    "                   plot_title='Debt-to-GDP')"
   ]
  },
  {
   "cell_type": "markdown",
   "metadata": {},
   "source": [
    "### we can also look at interest rates:"
   ]
  },
  {
   "cell_type": "code",
   "execution_count": null,
   "metadata": {},
   "outputs": [],
   "source": [
    "# Plot OG-USA output; interest rates\n",
    "rplot = op.plot_aggregates(\n",
    "    base_tpi, base_params, reform_tpi=reform_tpi,\n",
    "    reform_params=reform_params, var_list=['r'],\n",
    "    plot_type='levels', num_years_to_plot=150,\n",
    "    vertical_line_years=[\n",
    "        base_params.start_year + base_params.tG1,\n",
    "        base_params.start_year + base_params.tG2],\n",
    "    plot_title='Real Interest Rates Under Baseline and Reform')"
   ]
  },
  {
   "cell_type": "markdown",
   "metadata": {},
   "source": [
    "### wage rates..."
   ]
  },
  {
   "cell_type": "code",
   "execution_count": null,
   "metadata": {},
   "outputs": [],
   "source": [
    "# Plot OG-USA output; wage rates\n",
    "rplot = op.plot_aggregates(\n",
    "    base_tpi, base_params, reform_tpi=reform_tpi,\n",
    "    reform_params=reform_params, var_list=['w'],\n",
    "    plot_type='levels', num_years_to_plot=150,\n",
    "    vertical_line_years=[\n",
    "        base_params.start_year + base_params.tG1,\n",
    "        base_params.start_year + base_params.tG2],\n",
    "    plot_title='Real Wage Rates Under Baseline and Reform')"
   ]
  },
  {
   "cell_type": "code",
   "execution_count": null,
   "metadata": {},
   "outputs": [],
   "source": [
    "pct_chg_plot = op.plot_aggregates(base_tpi, base_params, reform_tpi=reform_tpi,\n",
    "                    reform_params=reform_params,\n",
    "                    var_list=['w'], plot_type='pct_diff',\n",
    "                    num_years_to_plot=10,\n",
    "                    vertical_line_years=[\n",
    "                        base_params.start_year + base_params.tG1,\n",
    "                        base_params.start_year + base_params.tG2],\n",
    "                    plot_title='Percentage Changes in Wage Rates')"
   ]
  },
  {
   "cell_type": "markdown",
   "metadata": {},
   "source": [
    "## Distributional analysis\n",
    "\n",
    "Given the heterogenity in the model - differences in households by age and lifetime income group - we can conduct distributional analysis with the model.\n",
    "\n",
    "Consider the differences in earnings profiles across groups:"
   ]
  },
  {
   "cell_type": "code",
   "execution_count": null,
   "metadata": {},
   "outputs": [],
   "source": [
    "# earnings profiles\n",
    "fig2 = pp.plot_ability_profiles(base_params, include_title=True)\n"
   ]
  },
  {
   "cell_type": "markdown",
   "metadata": {},
   "source": [
    "These differences in earnings mean that the changes in marginal and effective tax rates, which vary by income, are doing to have differential impacts across these groups."
   ]
  },
  {
   "cell_type": "code",
   "execution_count": null,
   "metadata": {},
   "outputs": [],
   "source": [
    "# plot effects by group\n",
    "bar = op.ability_bar(base_tpi, base_params, reform_tpi,\n",
    "                reform_params, var='n_mat')"
   ]
  },
  {
   "cell_type": "markdown",
   "metadata": {},
   "source": [
    "### effects across the lifecycle (SS results):"
   ]
  },
  {
   "cell_type": "code",
   "execution_count": null,
   "metadata": {},
   "outputs": [],
   "source": [
    "# plot profiles from SS\n",
    "fig1 = op.ss_profiles(base_ss, base_params, reform_ss, reform_params,\n",
    "                      var='nssmat')"
   ]
  },
  {
   "cell_type": "code",
   "execution_count": null,
   "metadata": {},
   "outputs": [],
   "source": [
    "# plot profiles from SS\n",
    "fig1 = op.ss_profiles(base_ss, base_params, reform_ss, reform_params,\n",
    "                      var='bssmat_splus1')"
   ]
  },
  {
   "cell_type": "code",
   "execution_count": null,
   "metadata": {},
   "outputs": [],
   "source": [
    "# plot labor profiles from SS along with data\n",
    "fig1 = op.ss_profiles(base_ss, base_params, by_j=False, var='nssmat', plot_data=True)"
   ]
  },
  {
   "cell_type": "code",
   "execution_count": null,
   "metadata": {},
   "outputs": [],
   "source": []
  }
 ],
 "metadata": {
  "kernelspec": {
   "display_name": "Python (ogusa-dev)",
   "language": "python",
   "name": "ogusa-dev"
  },
  "language_info": {
   "codemirror_mode": {
    "name": "ipython",
    "version": 3
   },
   "file_extension": ".py",
   "mimetype": "text/x-python",
   "name": "python",
   "nbconvert_exporter": "python",
   "pygments_lexer": "ipython3",
   "version": "3.7.3"
  }
 },
 "nbformat": 4,
 "nbformat_minor": 2
}
