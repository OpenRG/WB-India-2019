{
 "cells": [
  {
   "cell_type": "markdown",
   "metadata": {},
   "source": [
    "# Exploring the India taxcalc package\n",
    "## August 20, 2019\n",
    "\n",
    "This notebook repeats the steps we took to delve into the `taxcalc` packaged developed by the TPRU.\n",
    "\n",
    "\n",
    "### We begin by importing `taxcalc`\n",
    "\n",
    "Before we can do this, we need to build the `taxcalc` package.  We build this package with the following steps:\n",
    "1) Making sure were were in a python environment with all necessary packages (e.g., the `ogindia-dev` environment)\n",
    "2) Navigating to `/taxcalc/` and executing the command `pip install -e .` (or `python setup.py develop`) in the command line.\n"
   ]
  },
  {
   "cell_type": "code",
   "execution_count": 1,
   "metadata": {},
   "outputs": [],
   "source": [
    "# import all modules and classes from taxcalc\n",
    "from taxcalc import *"
   ]
  },
  {
   "cell_type": "markdown",
   "metadata": {},
   "source": [
    "## 1. Create an instance of the records class\n",
    "\n",
    "Note that by passing no arguments to `Records()`, the class will look for a file called `pit.csv` in the `/taxcalc/taxcalc` directory."
   ]
  },
  {
   "cell_type": "code",
   "execution_count": 2,
   "metadata": {},
   "outputs": [],
   "source": [
    "recs = Records()"
   ]
  },
  {
   "cell_type": "code",
   "execution_count": 3,
   "metadata": {},
   "outputs": [
    {
     "data": {
      "text/plain": [
       "['AGEGRP',\n",
       " 'AYEAR',\n",
       " 'Aggregate_Income',\n",
       " 'BFL_SET_OFF_BALANCE',\n",
       " 'BF_Losses',\n",
       " 'CALCULATED_VARS',\n",
       " 'CHANGING_CALCULATED_VARS',\n",
       " 'CUR_PATH',\n",
       " 'CYL_SET_OFF',\n",
       " 'CY_Losses',\n",
       " 'FILING_SEQ_NO',\n",
       " 'GTI',\n",
       " 'IGNORED_VARS',\n",
       " 'INCOME_HP',\n",
       " 'INTEGER_READ_VARS',\n",
       " 'INTEGER_VARS',\n",
       " 'Income_BP',\n",
       " 'Income_Rate_Purpose',\n",
       " 'Income_Salary',\n",
       " 'LT_CG_AMT_1',\n",
       " 'LT_CG_AMT_2',\n",
       " 'MUST_READ_VARS',\n",
       " 'NET_AGRC_INCOME',\n",
       " 'PITCSV_YEAR',\n",
       " 'PIT_DATA_FILENAME',\n",
       " 'PIT_WEIGHTS_FILENAME',\n",
       " 'PRFT_GAIN_BP_INC_115BBF',\n",
       " 'PRFT_GAIN_BP_OTHR_SPECLTV_BUS',\n",
       " 'PRFT_GAIN_BP_SPCFD_BUS',\n",
       " 'PRFT_GAIN_BP_SPECLTV_BUS',\n",
       " 'SALARIES',\n",
       " 'ST_CG_AMT_1',\n",
       " 'ST_CG_AMT_2',\n",
       " 'ST_CG_AMT_APPRATE',\n",
       " 'TI_special_rates',\n",
       " 'TOTAL_DEDUC_10AA',\n",
       " 'TOTAL_DEDUC_VIA',\n",
       " 'TOTAL_INCOME_OS',\n",
       " 'TTI',\n",
       " 'Tax_LT_CG_RATE1',\n",
       " 'Tax_LT_CG_RATE2',\n",
       " 'Tax_ST_CG_APPRATE',\n",
       " 'Tax_ST_CG_RATE1',\n",
       " 'Tax_ST_CG_RATE2',\n",
       " 'Total_Tax_Cap_Gains',\n",
       " 'Total_Tax_LTCG',\n",
       " 'Total_Tax_STCG',\n",
       " 'USABLE_READ_VARS',\n",
       " 'VAR_INFO_FILENAME',\n",
       " 'WT',\n",
       " '_Records__current_year',\n",
       " '_Records__data_year',\n",
       " '_Records__dim',\n",
       " '_Records__index',\n",
       " '__class__',\n",
       " '__delattr__',\n",
       " '__dict__',\n",
       " '__dir__',\n",
       " '__doc__',\n",
       " '__eq__',\n",
       " '__format__',\n",
       " '__ge__',\n",
       " '__getattribute__',\n",
       " '__gt__',\n",
       " '__hash__',\n",
       " '__init__',\n",
       " '__init_subclass__',\n",
       " '__le__',\n",
       " '__lt__',\n",
       " '__module__',\n",
       " '__ne__',\n",
       " '__new__',\n",
       " '__reduce__',\n",
       " '__reduce_ex__',\n",
       " '__repr__',\n",
       " '__setattr__',\n",
       " '__sizeof__',\n",
       " '__str__',\n",
       " '__subclasshook__',\n",
       " '__weakref__',\n",
       " '_blowup',\n",
       " '_read_data',\n",
       " '_read_weights',\n",
       " 'array_length',\n",
       " 'cess',\n",
       " 'current_year',\n",
       " 'data_year',\n",
       " 'deduction_10AA',\n",
       " 'deductions',\n",
       " 'gfactors',\n",
       " 'increment_year',\n",
       " 'pitax',\n",
       " 'read_var_info',\n",
       " 'rebate',\n",
       " 'rebate_agri',\n",
       " 'set_current_year',\n",
       " 'surcharge',\n",
       " 'tax_Aggregate_Income',\n",
       " 'tax_TI_special_rates',\n",
       " 'tax_TTI',\n",
       " 'weight',\n",
       " 'zero_out_changing_calculated_vars']"
      ]
     },
     "execution_count": 3,
     "metadata": {},
     "output_type": "execute_result"
    }
   ],
   "source": [
    "# We can peer into the Records class object with dir():\n",
    "dir(recs)"
   ]
  },
  {
   "cell_type": "markdown",
   "metadata": {},
   "source": [
    "What we get from `dir(recs)` is a list of all the attributes (contant values) and methods (functions) that the `Records` class contains.\n",
    "\n",
    "Note that `rec` will contain (among these attributes and methods) the tax data in the `pit.csv` file.\n",
    "\n",
    "## 2. Create instances of the `GSTRecords()` and `CorpRecords()` classes"
   ]
  },
  {
   "cell_type": "code",
   "execution_count": 4,
   "metadata": {},
   "outputs": [],
   "source": [
    "grecs = GSTRecords()\n",
    "crecs = CorpRecords()"
   ]
  },
  {
   "cell_type": "markdown",
   "metadata": {},
   "source": [
    "## 3. Specify a set of policy parameters\n",
    "\n",
    "We do this by creating an instance of the `Policy` class.  If we pass no arguments to `Policy`, as we do below, we are implicitly saying to load the *baseline* policy (e.g., the model may have a current law baseline).  \n",
    "\n",
    "If we wanted to deviate from the baseline policy, we would enter a dictionary of parameter changes (that would need to be consistent with the syntax used by `taxcalc`"
   ]
  },
  {
   "cell_type": "code",
   "execution_count": 5,
   "metadata": {},
   "outputs": [],
   "source": [
    "pol = Policy()"
   ]
  },
  {
   "cell_type": "markdown",
   "metadata": {},
   "source": [
    "## 4. Create a `taxcalc` instance\n",
    "\n",
    "Now that we have specified tax data and tax policy, we can put them together in a calculator class.  Loading and instance of the class will allow us to do some calculations on the tax data using the tax parameters specified in `pol`."
   ]
  },
  {
   "cell_type": "code",
   "execution_count": 6,
   "metadata": {},
   "outputs": [],
   "source": [
    "calc1 = Calculator(policy=pol, records=recs,\n",
    "                   gstrecords=grecs, corprecords=crecs,\n",
    "                   verbose=False)"
   ]
  },
  {
   "cell_type": "markdown",
   "metadata": {},
   "source": [
    "Note that executing the cell above returns nothing.  It simply creates the class. Now you need to give more instruction to run some calculations.\n",
    "\n",
    "To do this, first we'll give the calculator a year for which we want to do calculations:"
   ]
  },
  {
   "cell_type": "code",
   "execution_count": 7,
   "metadata": {},
   "outputs": [],
   "source": [
    "calc1.advance_to_year(2020)"
   ]
  },
  {
   "cell_type": "markdown",
   "metadata": {},
   "source": [
    "Next, we'll tell it do some (actually all) calculations:"
   ]
  },
  {
   "cell_type": "code",
   "execution_count": 8,
   "metadata": {},
   "outputs": [],
   "source": [
    "calc1.calc_all()"
   ]
  },
  {
   "cell_type": "markdown",
   "metadata": {},
   "source": [
    "Again - nothing is returned!  Calculations were done (you might have noticed it took a few seconds to execute the cell above), but all the results are simply stored somewhere in the `calc1` class object.\n",
    "\n",
    "To see what is in this object, we can again, use `dir()`:"
   ]
  },
  {
   "cell_type": "code",
   "execution_count": 9,
   "metadata": {},
   "outputs": [
    {
     "data": {
      "text/plain": [
       "['MTR_VALID_VARIABLES',\n",
       " 'REQUIRED_ASSUMP_KEYS',\n",
       " 'REQUIRED_REFORM_KEYS',\n",
       " '_Calculator__corprecords',\n",
       " '_Calculator__gstrecords',\n",
       " '_Calculator__policy',\n",
       " '_Calculator__records',\n",
       " '_Calculator__stored_records',\n",
       " '__class__',\n",
       " '__delattr__',\n",
       " '__dict__',\n",
       " '__dir__',\n",
       " '__doc__',\n",
       " '__eq__',\n",
       " '__format__',\n",
       " '__ge__',\n",
       " '__getattribute__',\n",
       " '__gt__',\n",
       " '__hash__',\n",
       " '__init__',\n",
       " '__init_subclass__',\n",
       " '__le__',\n",
       " '__lt__',\n",
       " '__module__',\n",
       " '__ne__',\n",
       " '__new__',\n",
       " '__reduce__',\n",
       " '__reduce_ex__',\n",
       " '__repr__',\n",
       " '__setattr__',\n",
       " '__sizeof__',\n",
       " '__str__',\n",
       " '__subclasshook__',\n",
       " '__weakref__',\n",
       " '_convert_parameter_dict',\n",
       " '_read_json_econ_assump_text',\n",
       " '_read_json_policy_reform_text',\n",
       " 'advance_to_year',\n",
       " 'array',\n",
       " 'array_len',\n",
       " 'calc_all',\n",
       " 'carray',\n",
       " 'current_year',\n",
       " 'data_year',\n",
       " 'dataframe',\n",
       " 'diagnostic_table',\n",
       " 'difference_table',\n",
       " 'distribution_table_dataframe',\n",
       " 'distribution_tables',\n",
       " 'garray',\n",
       " 'incarray',\n",
       " 'increment_year',\n",
       " 'mtr',\n",
       " 'n65',\n",
       " 'policy_current_year',\n",
       " 'policy_param',\n",
       " 'read_json_param_objects',\n",
       " 'records_current_year',\n",
       " 'reform_documentation',\n",
       " 'reform_warnings',\n",
       " 'restore_records',\n",
       " 'store_records',\n",
       " 'total_weight',\n",
       " 'weighted_garray',\n",
       " 'weighted_total',\n",
       " 'weighted_total_garray',\n",
       " 'zeroarray']"
      ]
     },
     "execution_count": 9,
     "metadata": {},
     "output_type": "execute_result"
    }
   ],
   "source": [
    "dir(calc1)"
   ]
  },
  {
   "cell_type": "markdown",
   "metadata": {},
   "source": [
    "I see an attribute called `dataframe`.  This looks interesting.  Maybe we can get this back and look at the data - including any calculations of tax liability.\n",
    "\n",
    "I try:"
   ]
  },
  {
   "cell_type": "code",
   "execution_count": 10,
   "metadata": {},
   "outputs": [
    {
     "ename": "TypeError",
     "evalue": "dataframe() missing 1 required positional argument: 'variable_list'",
     "output_type": "error",
     "traceback": [
      "\u001b[0;31m---------------------------------------------------------------------------\u001b[0m",
      "\u001b[0;31mTypeError\u001b[0m                                 Traceback (most recent call last)",
      "\u001b[0;32m<ipython-input-10-dc19f1014370>\u001b[0m in \u001b[0;36m<module>\u001b[0;34m\u001b[0m\n\u001b[0;32m----> 1\u001b[0;31m \u001b[0mcalc1\u001b[0m\u001b[0;34m.\u001b[0m\u001b[0mdataframe\u001b[0m\u001b[0;34m(\u001b[0m\u001b[0;34m)\u001b[0m\u001b[0;34m\u001b[0m\u001b[0;34m\u001b[0m\u001b[0m\n\u001b[0m",
      "\u001b[0;31mTypeError\u001b[0m: dataframe() missing 1 required positional argument: 'variable_list'"
     ]
    }
   ],
   "source": [
    "calc1.dataframe()"
   ]
  },
  {
   "cell_type": "markdown",
   "metadata": {},
   "source": [
    "I do not get a dataframe back.  I then look at the source code for the `Calculator` class in `/taxcalc/taxcalc/calculator.py`, [here](https://github.com/TPRU-India/taxcalc/blob/311dd238c4d8be590b513b653227a401ac86c7e9/taxcalc/calculator.py#L238).  I see that I need to pass the function a list of variable names.\n",
    "\n",
    "I'm not sure of what the variable names are in these data.  So I look in the `taxcalc/taxcalc/records_variables.json`, [here](https://github.com/TPRU-India/taxcalc/blob/master/taxcalc/records_variables.json).  I pick a couple I'm interested in:"
   ]
  },
  {
   "cell_type": "code",
   "execution_count": 11,
   "metadata": {},
   "outputs": [],
   "source": [
    "df = calc1.dataframe(['pitax', 'GTI'])"
   ]
  },
  {
   "cell_type": "code",
   "execution_count": 12,
   "metadata": {},
   "outputs": [
    {
     "data": {
      "text/html": [
       "<div>\n",
       "<style scoped>\n",
       "    .dataframe tbody tr th:only-of-type {\n",
       "        vertical-align: middle;\n",
       "    }\n",
       "\n",
       "    .dataframe tbody tr th {\n",
       "        vertical-align: top;\n",
       "    }\n",
       "\n",
       "    .dataframe thead th {\n",
       "        text-align: right;\n",
       "    }\n",
       "</style>\n",
       "<table border=\"1\" class=\"dataframe\">\n",
       "  <thead>\n",
       "    <tr style=\"text-align: right;\">\n",
       "      <th></th>\n",
       "      <th>pitax</th>\n",
       "      <th>GTI</th>\n",
       "    </tr>\n",
       "  </thead>\n",
       "  <tbody>\n",
       "    <tr>\n",
       "      <th>0</th>\n",
       "      <td>454779.734425</td>\n",
       "      <td>2.233925e+06</td>\n",
       "    </tr>\n",
       "    <tr>\n",
       "      <th>1</th>\n",
       "      <td>0.000000</td>\n",
       "      <td>2.261620e+05</td>\n",
       "    </tr>\n",
       "    <tr>\n",
       "      <th>2</th>\n",
       "      <td>54627.426428</td>\n",
       "      <td>8.501319e+05</td>\n",
       "    </tr>\n",
       "    <tr>\n",
       "      <th>3</th>\n",
       "      <td>9250.767421</td>\n",
       "      <td>5.883654e+05</td>\n",
       "    </tr>\n",
       "    <tr>\n",
       "      <th>4</th>\n",
       "      <td>7225.503704</td>\n",
       "      <td>4.329820e+05</td>\n",
       "    </tr>\n",
       "  </tbody>\n",
       "</table>\n",
       "</div>"
      ],
      "text/plain": [
       "           pitax           GTI\n",
       "0  454779.734425  2.233925e+06\n",
       "1       0.000000  2.261620e+05\n",
       "2   54627.426428  8.501319e+05\n",
       "3    9250.767421  5.883654e+05\n",
       "4    7225.503704  4.329820e+05"
      ]
     },
     "execution_count": 12,
     "metadata": {},
     "output_type": "execute_result"
    }
   ],
   "source": [
    "# look at the first 5 observations:\n",
    "df.head(n=5)"
   ]
  },
  {
   "cell_type": "markdown",
   "metadata": {},
   "source": [
    "Excellent!  We were able to use `taxcalc` to compute PIT liability for all filers in our data in 2020 and return the results to a dataframe.\n",
    "\n",
    "Let's look at effective tax rates (ETRs) in these data:"
   ]
  },
  {
   "cell_type": "code",
   "execution_count": 13,
   "metadata": {},
   "outputs": [
    {
     "data": {
      "text/html": [
       "<div>\n",
       "<style scoped>\n",
       "    .dataframe tbody tr th:only-of-type {\n",
       "        vertical-align: middle;\n",
       "    }\n",
       "\n",
       "    .dataframe tbody tr th {\n",
       "        vertical-align: top;\n",
       "    }\n",
       "\n",
       "    .dataframe thead th {\n",
       "        text-align: right;\n",
       "    }\n",
       "</style>\n",
       "<table border=\"1\" class=\"dataframe\">\n",
       "  <thead>\n",
       "    <tr style=\"text-align: right;\">\n",
       "      <th></th>\n",
       "      <th>pitax</th>\n",
       "      <th>GTI</th>\n",
       "      <th>ETR</th>\n",
       "    </tr>\n",
       "  </thead>\n",
       "  <tbody>\n",
       "    <tr>\n",
       "      <th>count</th>\n",
       "      <td>200.000000</td>\n",
       "      <td>2.000000e+02</td>\n",
       "      <td>200.000000</td>\n",
       "    </tr>\n",
       "    <tr>\n",
       "      <th>mean</th>\n",
       "      <td>74341.502367</td>\n",
       "      <td>7.708530e+05</td>\n",
       "      <td>0.054734</td>\n",
       "    </tr>\n",
       "    <tr>\n",
       "      <th>std</th>\n",
       "      <td>133600.062019</td>\n",
       "      <td>5.632945e+05</td>\n",
       "      <td>0.059807</td>\n",
       "    </tr>\n",
       "    <tr>\n",
       "      <th>min</th>\n",
       "      <td>0.000000</td>\n",
       "      <td>3.920387e+04</td>\n",
       "      <td>0.000000</td>\n",
       "    </tr>\n",
       "    <tr>\n",
       "      <th>25%</th>\n",
       "      <td>7146.137710</td>\n",
       "      <td>3.994817e+05</td>\n",
       "      <td>0.015765</td>\n",
       "    </tr>\n",
       "    <tr>\n",
       "      <th>50%</th>\n",
       "      <td>12269.856030</td>\n",
       "      <td>5.688373e+05</td>\n",
       "      <td>0.022034</td>\n",
       "    </tr>\n",
       "    <tr>\n",
       "      <th>75%</th>\n",
       "      <td>72240.893908</td>\n",
       "      <td>9.241813e+05</td>\n",
       "      <td>0.079225</td>\n",
       "    </tr>\n",
       "    <tr>\n",
       "      <th>max</th>\n",
       "      <td>798285.212653</td>\n",
       "      <td>3.333606e+06</td>\n",
       "      <td>0.239466</td>\n",
       "    </tr>\n",
       "  </tbody>\n",
       "</table>\n",
       "</div>"
      ],
      "text/plain": [
       "               pitax           GTI         ETR\n",
       "count     200.000000  2.000000e+02  200.000000\n",
       "mean    74341.502367  7.708530e+05    0.054734\n",
       "std    133600.062019  5.632945e+05    0.059807\n",
       "min         0.000000  3.920387e+04    0.000000\n",
       "25%      7146.137710  3.994817e+05    0.015765\n",
       "50%     12269.856030  5.688373e+05    0.022034\n",
       "75%     72240.893908  9.241813e+05    0.079225\n",
       "max    798285.212653  3.333606e+06    0.239466"
      ]
     },
     "execution_count": 13,
     "metadata": {},
     "output_type": "execute_result"
    }
   ],
   "source": [
    "# create ETR variable\n",
    "df['ETR'] = df['pitax']/df['GTI']\n",
    "# summarize the data\n",
    "df.describe()"
   ]
  },
  {
   "cell_type": "code",
   "execution_count": 14,
   "metadata": {},
   "outputs": [
    {
     "data": {
      "text/plain": [
       "<matplotlib.axes._subplots.AxesSubplot at 0x1222b6d30>"
      ]
     },
     "execution_count": 14,
     "metadata": {},
     "output_type": "execute_result"
    },
    {
     "data": {
      "image/png": "[encoded data removed]",
      "text/plain": [
       "<Figure size 432x288 with 1 Axes>"
      ]
     },
     "metadata": {
      "needs_background": "light"
     },
     "output_type": "display_data"
    }
   ],
   "source": [
    "# plot relation between ETR and GTI\n",
    "import matplotlib.pyplot as plt\n",
    "%matplotlib inline\n",
    "df.plot.scatter(x='GTI', y='ETR')"
   ]
  },
  {
   "cell_type": "code",
   "execution_count": null,
   "metadata": {},
   "outputs": [],
   "source": []
  }
 ],
 "metadata": {
  "kernelspec": {
   "display_name": "Python 3",
   "language": "python",
   "name": "python3"
  },
  "language_info": {
   "codemirror_mode": {
    "name": "ipython",
    "version": 3
   },
   "file_extension": ".py",
   "mimetype": "text/x-python",
   "name": "python",
   "nbconvert_exporter": "python",
   "pygments_lexer": "ipython3",
   "version": "3.7.3"
  }
 },
 "nbformat": 4,
 "nbformat_minor": 2
}
